{
 "cells": [
  {
   "attachments": {},
   "cell_type": "markdown",
   "metadata": {},
   "source": [
    "SENTIMENT ANALYSIS TOOL"
   ]
  },
  {
   "cell_type": "code",
   "execution_count": 1,
   "metadata": {},
   "outputs": [
    {
     "name": "stderr",
     "output_type": "stream",
     "text": [
      "[nltk_data] Downloading package vader_lexicon to\n",
      "[nltk_data]     C:\\Users\\KIIT\\AppData\\Roaming\\nltk_data...\n",
      "[nltk_data]   Package vader_lexicon is already up-to-date!\n"
     ]
    },
    {
     "name": "stdout",
     "output_type": "stream",
     "text": [
      "Positive score: 0.0\n",
      "Negative score: 0.558\n",
      "Neutral score: 0.442\n",
      "Compound score: -0.5849\n",
      "Sentiment: Negative\n"
     ]
    }
   ],
   "source": [
    "import nltk\n",
    "from nltk.sentiment import SentimentIntensityAnalyzer\n",
    "\n",
    "nltk.download('vader_lexicon')\n",
    "\n",
    "\n",
    "sia = SentimentIntensityAnalyzer()\n",
    "\n",
    "\n",
    "emotion = input(\"Enter some text: \")\n",
    "\n",
    "# Analyze sentiment of input text\n",
    "scores = sia.polarity_scores(emotion)\n",
    "\n",
    "# Print sentiment scores\n",
    "print(\"Positive score:\", scores['pos'])\n",
    "print(\"Negative score:\", scores['neg'])\n",
    "print(\"Neutral score:\", scores['neu'])\n",
    "print(\"Compound score:\", scores['compound'])\n",
    "\n",
    "# Determine sentiment label\n",
    "if scores['compound'] > 0.05:\n",
    "    print(\"Sentiment: Positive\")\n",
    "elif scores['compound'] < -0.05:\n",
    "    print(\"Sentiment: Negative\")\n",
    "else:\n",
    "    print(\"Sentiment: Neutral\")\n"
   ]
  },
  {
   "attachments": {},
   "cell_type": "markdown",
   "metadata": {},
   "source": [
    "SENTIMENT ANALYSIS TOOL WITH GUI"
   ]
  },
  {
   "cell_type": "code",
   "execution_count": 6,
   "metadata": {},
   "outputs": [
    {
     "name": "stderr",
     "output_type": "stream",
     "text": [
      "[nltk_data] Downloading package vader_lexicon to\n",
      "[nltk_data]     C:\\Users\\KIIT\\AppData\\Roaming\\nltk_data...\n",
      "[nltk_data]   Package vader_lexicon is already up-to-date!\n"
     ]
    }
   ],
   "source": [
    "import nltk\n",
    "from nltk.sentiment import SentimentIntensityAnalyzer\n",
    "import tkinter as tk\n",
    "from tkinter import scrolledtext\n",
    "\n",
    "\n",
    "nltk.download('vader_lexicon')\n",
    "\n",
    "class SentimentAnalyzer:\n",
    "    def __init__(self, master):\n",
    "        self.master = master\n",
    "        master.title(\"Sentiment Analyzer\")\n",
    "\n",
    "        self.label = tk.Label(master, text=\"Enter some text to analyze:\")\n",
    "        self.label.pack()\n",
    "\n",
    "        self.text_box = scrolledtext.ScrolledText(master, height=5)\n",
    "        self.text_box.pack()\n",
    "\n",
    "        self.analyze_button = tk.Button(master, text=\"Analyze\", command=self.analyze)\n",
    "        self.analyze_button.pack()\n",
    "\n",
    "        self.result_label = tk.Label(master, text=\"Sentiment:\")\n",
    "        self.result_label.pack()\n",
    "\n",
    "        self.sentiment_label = tk.Label(master, text=\"\")\n",
    "        self.sentiment_label.pack()\n",
    "\n",
    "    def analyze(self):\n",
    "        text = self.text_box.get(\"1.0\", tk.END)\n",
    "\n",
    "      \n",
    "        sia = SentimentIntensityAnalyzer()\n",
    "\n",
    "       \n",
    "        scores = sia.polarity_scores(text)\n",
    "\n",
    "        \n",
    "        if scores['compound'] > 0.05:\n",
    "            sentiment = \"Positive\"\n",
    "        elif scores['compound'] < -0.05:\n",
    "            sentiment = \"Negative\"\n",
    "        else:\n",
    "            sentiment = \"Neutral\"\n",
    "\n",
    "       \n",
    "        self.sentiment_label.configure(text=sentiment)\n",
    "\n",
    "root = tk.Tk()\n",
    "my_gui = SentimentAnalyzer(root)\n",
    "root.mainloop()\n"
   ]
  }
 ],
 "metadata": {
  "kernelspec": {
   "display_name": "Python 3",
   "language": "python",
   "name": "python3"
  },
  "language_info": {
   "codemirror_mode": {
    "name": "ipython",
    "version": 3
   },
   "file_extension": ".py",
   "mimetype": "text/x-python",
   "name": "python",
   "nbconvert_exporter": "python",
   "pygments_lexer": "ipython3",
   "version": "3.11.2"
  },
  "orig_nbformat": 4
 },
 "nbformat": 4,
 "nbformat_minor": 2
}
